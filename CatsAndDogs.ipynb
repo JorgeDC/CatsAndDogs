{
 "cells": [
  {
   "cell_type": "markdown",
   "metadata": {
    "deletable": true,
    "editable": true
   },
   "source": [
    "Jupyter notebook to distignish Cats and Dogs"
   ]
  },
  {
   "cell_type": "code",
   "execution_count": 62,
   "metadata": {
    "collapsed": false,
    "deletable": true,
    "editable": true
   },
   "outputs": [],
   "source": [
    "import cv2                 # working with, mainly resizing, images\n",
    "import numpy as np         # dealing with arrays\n",
    "import os                  # dealing with directories\n",
    "from random import shuffle # mixing up or currently ordered data that might lead our network astray in training.\n",
    "from tqdm import tqdm      # a nice pretty percentage bar for tasks. Thanks to viewer Daniel BA1/4hler for this suggestion"
   ]
  },
  {
   "cell_type": "markdown",
   "metadata": {},
   "source": [
    "Global vars"
   ]
  },
  {
   "cell_type": "code",
   "execution_count": 63,
   "metadata": {
    "collapsed": false
   },
   "outputs": [
    {
     "name": "stdout",
     "output_type": "stream",
     "text": [
      "done loading\n"
     ]
    }
   ],
   "source": [
    "TRAIN_DIR = 'train'\n",
    "TEST_DIR = 'test'\n",
    "IMG_SIZE = 50\n",
    "LR = 1e-3\n",
    "\n",
    "print(\"done loading\")\n",
    "\n",
    "MODEL_NAME = 'dogsvscats-{}-{}.model'.format(LR, '2conv-basic') # just so we remember which saved model is which, sizes must match"
   ]
  },
  {
   "cell_type": "markdown",
   "metadata": {},
   "source": [
    "Create training labels"
   ]
  },
  {
   "cell_type": "code",
   "execution_count": 64,
   "metadata": {
    "collapsed": true
   },
   "outputs": [],
   "source": [
    "def label_img(img):\n",
    "    word_label = img.split('.')[-3]\n",
    "    # conversion to one-hot array [cat,dog]\n",
    "    #                            [much cat, no dog]\n",
    "    if word_label == 'cat': return [1,0]\n",
    "    #                             [no cat, very doggo]\n",
    "    elif word_label == 'dog': return [0,1]"
   ]
  },
  {
   "cell_type": "code",
   "execution_count": 65,
   "metadata": {
    "collapsed": true
   },
   "outputs": [],
   "source": [
    "def create_train_data():\n",
    "    training_data = []\n",
    "    for img in tqdm(os.listdir(TRAIN_DIR)):\n",
    "        if img[-4:] == \".jpg\":\n",
    "            label = label_img(img)\n",
    "            path = os.path.join(TRAIN_DIR,img)\n",
    "            img = cv2.imread(path,cv2.IMREAD_GRAYSCALE)\n",
    "            img = cv2.resize(img, (IMG_SIZE,IMG_SIZE))\n",
    "            training_data.append([np.array(img),np.array(label)])\n",
    "    shuffle(training_data)\n",
    "    np.save('train_data.npy', training_data)\n",
    "    return training_data"
   ]
  },
  {
   "cell_type": "markdown",
   "metadata": {},
   "source": [
    "Preprocess test data"
   ]
  },
  {
   "cell_type": "code",
   "execution_count": 66,
   "metadata": {
    "collapsed": true
   },
   "outputs": [],
   "source": [
    "def process_test_data():\n",
    "    testing_data = []\n",
    "    for img in tqdm(os.listdir(TEST_DIR)):\n",
    "        path = os.path.join(TEST_DIR,img)\n",
    "        img_num = img.split('.')[0]\n",
    "        img = cv2.imread(path,cv2.IMREAD_GRAYSCALE)\n",
    "        img = cv2.resize(img, (IMG_SIZE,IMG_SIZE))\n",
    "        testing_data.append([np.array(img), img_num])\n",
    "        \n",
    "    shuffle(testing_data)\n",
    "    np.save('test_data.npy', testing_data)\n",
    "    print(saved)\n",
    "    return testing_data"
   ]
  },
  {
   "cell_type": "markdown",
   "metadata": {},
   "source": [
    "Create training data"
   ]
  },
  {
   "cell_type": "code",
   "execution_count": 19,
   "metadata": {
    "collapsed": false
   },
   "outputs": [
    {
     "name": "stderr",
     "output_type": "stream",
     "text": [
      "100%|██████████| 25001/25001 [00:37<00:00, 672.15it/s]\n"
     ]
    }
   ],
   "source": [
    "#train_data = create_train_data()"
   ]
  },
  {
   "cell_type": "markdown",
   "metadata": {},
   "source": [
    "Loading trainig data"
   ]
  },
  {
   "cell_type": "code",
   "execution_count": 67,
   "metadata": {
    "collapsed": false
   },
   "outputs": [],
   "source": [
    "train_data = np.load('train_data.npy')"
   ]
  },
  {
   "cell_type": "markdown",
   "metadata": {},
   "source": [
    "Setup tensorflow"
   ]
  },
  {
   "cell_type": "code",
   "execution_count": 68,
   "metadata": {
    "collapsed": true
   },
   "outputs": [],
   "source": [
    "import tensorflow as tf"
   ]
  },
  {
   "cell_type": "code",
   "execution_count": 69,
   "metadata": {
    "collapsed": true
   },
   "outputs": [],
   "source": [
    "def neural_net_image_input(image_shape):\n",
    "    return tf.placeholder(tf.float32, shape=[None, image_shape[0], image_shape[1], image_shape[2]], name=\"x\")"
   ]
  },
  {
   "cell_type": "code",
   "execution_count": 70,
   "metadata": {
    "collapsed": true
   },
   "outputs": [],
   "source": [
    "def neural_net_label_input(n_classes):\n",
    "    return tf.placeholder(tf.float32, shape=[None, n_classes], name=\"y\")"
   ]
  },
  {
   "cell_type": "code",
   "execution_count": 71,
   "metadata": {
    "collapsed": true
   },
   "outputs": [],
   "source": [
    "def neural_net_keep_prob_input():\n",
    "    return tf.placeholder(tf.float32, name=\"keep_prob\")"
   ]
  },
  {
   "cell_type": "code",
   "execution_count": 72,
   "metadata": {
    "collapsed": true
   },
   "outputs": [],
   "source": [
    "def conv2d_maxpool(x_tensor, conv_num_outputs, conv_ksize, conv_strides, pool_ksize, pool_strides):\n",
    "    depth = int(x_tensor.shape[3])\n",
    "    filter_weights = tf.Variable(tf.truncated_normal([conv_ksize[0], conv_ksize[1],depth, conv_num_outputs], stddev=0.1))\n",
    "    filter_bias = tf.Variable(tf.zeros(conv_num_outputs))\n",
    "    stridesTuple = [1, conv_strides[0], conv_strides[1], 1] # (batch, height, width, depth)\n",
    "    paddingString = 'SAME'\n",
    "    conv = tf.nn.conv2d(x_tensor, filter_weights, strides=stridesTuple, padding=paddingString)\n",
    "    conv = tf.nn.bias_add(conv, filter_bias)\n",
    "    conv = tf.nn.relu(conv)\n",
    "    poolTuple = [1, pool_strides[0], pool_strides[1], 1] # (batch, height, width, depth)\n",
    "    conv = tf.nn.max_pool(conv,ksize=[1, pool_ksize[0], pool_ksize[1], 1],strides=poolTuple,padding=paddingString)\n",
    "    return conv"
   ]
  },
  {
   "cell_type": "code",
   "execution_count": 73,
   "metadata": {
    "collapsed": true
   },
   "outputs": [],
   "source": [
    "def flatten(x_tensor):\n",
    "    return tf.contrib.layers.flatten(x_tensor)"
   ]
  },
  {
   "cell_type": "code",
   "execution_count": 29,
   "metadata": {
    "collapsed": true
   },
   "outputs": [],
   "source": [
    "def fully_conn(x_tensor, num_outputs):\n",
    "    return tf.contrib.layers.fully_connected(inputs=x_tensor, num_outputs=num_outputs, activation_fn=tf.nn.relu)"
   ]
  },
  {
   "cell_type": "code",
   "execution_count": 30,
   "metadata": {
    "collapsed": true
   },
   "outputs": [],
   "source": [
    "def output(x_tensor, num_outputs):\n",
    "    return tf.contrib.layers.fully_connected(inputs=x_tensor, num_outputs=num_outputs, activation_fn=None)"
   ]
  },
  {
   "cell_type": "code",
   "execution_count": 31,
   "metadata": {
    "collapsed": true
   },
   "outputs": [],
   "source": [
    "def conv_net(x, keep_prob):\n",
    "    conv = conv2d_maxpool(x, 16, (8,8), (1,1), (2,2), (2,2))\n",
    "    conv = conv2d_maxpool(x, 32, (4,4), (1,1), (2,2), (2,2))\n",
    "    conv = conv2d_maxpool(x, 64, (2,2), (1,1), (2,2), (2,2))\n",
    "\n",
    "    conv = flatten(conv)\n",
    "    \n",
    "    conv = fully_conn(conv, 200)\n",
    "    conv = tf.nn.dropout(conv, keep_prob)\n",
    "    conv = fully_conn(conv, 100)\n",
    "    conv = tf.nn.dropout(conv, keep_prob)\n",
    "    \n",
    "\n",
    "    conv = output(conv, 2)\n",
    "    \n",
    "    return conv"
   ]
  },
  {
   "cell_type": "code",
   "execution_count": 32,
   "metadata": {
    "collapsed": false
   },
   "outputs": [],
   "source": [
    "# Remove previous weights, bias, inputs, etc..\n",
    "tf.reset_default_graph()\n",
    "\n",
    "# Inputs\n",
    "x = neural_net_image_input((IMG_SIZE, IMG_SIZE, 1))\n",
    "y = neural_net_label_input(2)\n",
    "keep_prob = neural_net_keep_prob_input()\n",
    "\n",
    "# Model\n",
    "logits = conv_net(x, keep_prob)\n",
    "\n",
    "# Name logits Tensor, so that is can be loaded from disk after training\n",
    "logits = tf.identity(logits, name='logits')\n",
    "\n",
    "# Loss and Optimizer\n",
    "cost = tf.reduce_mean(tf.nn.softmax_cross_entropy_with_logits(logits=logits, labels=y))\n",
    "optimizer = tf.train.AdamOptimizer().minimize(cost)\n",
    "\n",
    "# Accuracy\n",
    "correct_pred = tf.equal(tf.argmax(logits, 1), tf.argmax(y, 1))\n",
    "accuracy = tf.reduce_mean(tf.cast(correct_pred, tf.float32), name='accuracy')"
   ]
  },
  {
   "cell_type": "code",
   "execution_count": 33,
   "metadata": {
    "collapsed": true
   },
   "outputs": [],
   "source": [
    "def train_neural_network(session, optimizer, keep_probability, feature_batch, label_batch):\n",
    "    output = session.run(optimizer, feed_dict={x: feature_batch, y: label_batch, keep_prob: keep_probability})\n",
    "    pass\n"
   ]
  },
  {
   "cell_type": "code",
   "execution_count": 56,
   "metadata": {
    "collapsed": true
   },
   "outputs": [],
   "source": [
    "epochs = 10\n",
    "batch_size = 10\n",
    "keep_probability = 0.7"
   ]
  },
  {
   "cell_type": "markdown",
   "metadata": {},
   "source": [
    "Training"
   ]
  },
  {
   "cell_type": "code",
   "execution_count": 57,
   "metadata": {
    "collapsed": true
   },
   "outputs": [],
   "source": [
    "train = train_data[:-500]\n",
    "test = train_data[-500:]"
   ]
  },
  {
   "cell_type": "code",
   "execution_count": 58,
   "metadata": {
    "collapsed": true
   },
   "outputs": [],
   "source": [
    "train_x = np.array([i[0] for i in train]).reshape(-1,IMG_SIZE,IMG_SIZE,1)\n",
    "train_y = [i[1] for i in train]\n",
    "\n",
    "test_x = np.array([i[0] for i in test]).reshape(-1,IMG_SIZE,IMG_SIZE,1)\n",
    "test_y = [i[1] for i in test]"
   ]
  },
  {
   "cell_type": "code",
   "execution_count": 74,
   "metadata": {
    "collapsed": true
   },
   "outputs": [],
   "source": [
    "def print_stats(session, feature_batch, label_batch, cost, accuracy):\n",
    "    loss = session.run(cost, feed_dict={x: feature_batch, y: label_batch, keep_prob: 1.0})\n",
    "    valid_acc = session.run(accuracy, feed_dict={x: test_x, y: test_y, keep_prob: 1.0})\n",
    "    print('Loss: {} Validation Accuracy: {}'.format(loss, valid_acc))\n",
    "    pass"
   ]
  },
  {
   "cell_type": "markdown",
   "metadata": {},
   "source": [
    "Split data in batches"
   ]
  },
  {
   "cell_type": "code",
   "execution_count": 75,
   "metadata": {
    "collapsed": true
   },
   "outputs": [],
   "source": [
    "def chunks(x, y, n):\n",
    "    for i in range(0, len(x), n):\n",
    "        yield x[i:i + n], y[i:i + n] "
   ]
  },
  {
   "cell_type": "code",
   "execution_count": 76,
   "metadata": {
    "collapsed": false
   },
   "outputs": [],
   "source": [
    "batches = chunks(train_x, train_y, batch_size)"
   ]
  },
  {
   "cell_type": "code",
   "execution_count": null,
   "metadata": {
    "collapsed": false
   },
   "outputs": [
    {
     "name": "stdout",
     "output_type": "stream",
     "text": [
      "Epoch  1, CatsAndDogs Batch 1:  Loss: 32.89157485961914 Validation Accuracy: 0.5180000066757202\n",
      "Epoch  1, CatsAndDogs Batch 2:  Loss: 43.42072677612305 Validation Accuracy: 0.5099999904632568\n",
      "Epoch  1, CatsAndDogs Batch 3:  Loss: 192.65512084960938 Validation Accuracy: 0.49000000953674316\n",
      "Epoch  1, CatsAndDogs Batch 4:  Loss: 175.56063842773438 Validation Accuracy: 0.49000000953674316\n",
      "Epoch  1, CatsAndDogs Batch 5:  Loss: 75.60923767089844 Validation Accuracy: 0.4880000054836273\n",
      "Epoch  1, CatsAndDogs Batch 6:  Loss: 151.8937225341797 Validation Accuracy: 0.5099999904632568\n",
      "Epoch  1, CatsAndDogs Batch 7:  Loss: 298.9695739746094 Validation Accuracy: 0.5099999904632568\n",
      "Epoch  1, CatsAndDogs Batch 8:  Loss: 335.15484619140625 Validation Accuracy: 0.5099999904632568\n",
      "Epoch  1, CatsAndDogs Batch 9:  Loss: 523.6015625 Validation Accuracy: 0.5099999904632568\n",
      "Epoch  1, CatsAndDogs Batch 10:  Loss: 222.1463623046875 Validation Accuracy: 0.5099999904632568\n",
      "Epoch  1, CatsAndDogs Batch 11:  Loss: 11.99109172821045 Validation Accuracy: 0.4880000054836273\n",
      "Epoch  1, CatsAndDogs Batch 12:  Loss: 138.72344970703125 Validation Accuracy: 0.49000000953674316\n",
      "Epoch  1, CatsAndDogs Batch 13:  Loss: 422.34906005859375 Validation Accuracy: 0.49000000953674316\n",
      "Epoch  1, CatsAndDogs Batch 14:  Loss: 179.5433349609375 Validation Accuracy: 0.49000000953674316\n",
      "Epoch  1, CatsAndDogs Batch 15:  Loss: 219.16592407226562 Validation Accuracy: 0.49000000953674316\n",
      "Epoch  1, CatsAndDogs Batch 16:  Loss: 178.05154418945312 Validation Accuracy: 0.49000000953674316\n",
      "Epoch  1, CatsAndDogs Batch 17:  Loss: 171.65777587890625 Validation Accuracy: 0.49000000953674316\n",
      "Epoch  1, CatsAndDogs Batch 18:  Loss: 16.962177276611328 Validation Accuracy: 0.492000013589859\n",
      "Epoch  1, CatsAndDogs Batch 19:  Loss: 24.426799774169922 Validation Accuracy: 0.5099999904632568\n",
      "Epoch  1, CatsAndDogs Batch 20:  Loss: 75.57192993164062 Validation Accuracy: 0.5099999904632568\n",
      "Epoch  1, CatsAndDogs Batch 21:  Loss: 75.99810028076172 Validation Accuracy: 0.5099999904632568\n",
      "Epoch  1, CatsAndDogs Batch 22:  Loss: 59.6571044921875 Validation Accuracy: 0.5099999904632568\n",
      "Epoch  1, CatsAndDogs Batch 23:  Loss: 61.640342712402344 Validation Accuracy: 0.5099999904632568\n",
      "Epoch  1, CatsAndDogs Batch 24:  Loss: 81.22994232177734 Validation Accuracy: 0.5099999904632568\n",
      "Epoch  1, CatsAndDogs Batch 25:  Loss: 64.744140625 Validation Accuracy: 0.5099999904632568\n",
      "Epoch  1, CatsAndDogs Batch 26:  Loss: 89.03343963623047 Validation Accuracy: 0.5099999904632568\n",
      "Epoch  1, CatsAndDogs Batch 27:  Loss: 91.32242584228516 Validation Accuracy: 0.5099999904632568\n",
      "Epoch  1, CatsAndDogs Batch 28:  Loss: 53.141273498535156 Validation Accuracy: 0.5099999904632568\n",
      "Epoch  1, CatsAndDogs Batch 29:  Loss: 11.14425277709961 Validation Accuracy: 0.5400000214576721\n",
      "Epoch  1, CatsAndDogs Batch 30:  Loss: 14.117525100708008 Validation Accuracy: 0.47999998927116394\n",
      "Epoch  1, CatsAndDogs Batch 31:  Loss: 44.6528434753418 Validation Accuracy: 0.49000000953674316\n",
      "Epoch  1, CatsAndDogs Batch 32:  Loss: 32.79969024658203 Validation Accuracy: 0.49000000953674316\n",
      "Epoch  1, CatsAndDogs Batch 33:  Loss: 28.413768768310547 Validation Accuracy: 0.49000000953674316\n",
      "Epoch  1, CatsAndDogs Batch 34:  Loss: 108.50447845458984 Validation Accuracy: 0.49000000953674316\n",
      "Epoch  1, CatsAndDogs Batch 35:  Loss: 94.73622131347656 Validation Accuracy: 0.49000000953674316\n",
      "Epoch  1, CatsAndDogs Batch 36:  Loss: 90.75240325927734 Validation Accuracy: 0.49000000953674316\n",
      "Epoch  1, CatsAndDogs Batch 37:  Loss: 98.6685791015625 Validation Accuracy: 0.49000000953674316\n",
      "Epoch  1, CatsAndDogs Batch 38:  Loss: 34.34161376953125 Validation Accuracy: 0.49000000953674316\n",
      "Epoch  1, CatsAndDogs Batch 39:  Loss: 58.75416946411133 Validation Accuracy: 0.49000000953674316\n",
      "Epoch  1, CatsAndDogs Batch 40:  Loss: 58.77385330200195 Validation Accuracy: 0.49000000953674316\n",
      "Epoch  1, CatsAndDogs Batch 41:  Loss: 20.774932861328125 Validation Accuracy: 0.49000000953674316\n",
      "Epoch  1, CatsAndDogs Batch 42:  Loss: 38.40169143676758 Validation Accuracy: 0.49000000953674316\n",
      "Epoch  1, CatsAndDogs Batch 43:  Loss: 36.093833923339844 Validation Accuracy: 0.49000000953674316\n",
      "Epoch  1, CatsAndDogs Batch 44:  Loss: 17.63369369506836 Validation Accuracy: 0.49000000953674316\n",
      "Epoch  1, CatsAndDogs Batch 45:  Loss: 13.13171672821045 Validation Accuracy: 0.49000000953674316\n",
      "Epoch  1, CatsAndDogs Batch 46:  Loss: 1.616456389427185 Validation Accuracy: 0.5479999780654907\n",
      "Epoch  1, CatsAndDogs Batch 47:  Loss: 8.480392456054688 Validation Accuracy: 0.5120000243186951\n",
      "Epoch  1, CatsAndDogs Batch 48:  Loss: 12.556442260742188 Validation Accuracy: 0.5099999904632568\n",
      "Epoch  1, CatsAndDogs Batch 49:  Loss: 19.49567985534668 Validation Accuracy: 0.5099999904632568\n",
      "Epoch  1, CatsAndDogs Batch 50:  Loss: 11.558130264282227 Validation Accuracy: 0.5099999904632568\n",
      "Epoch  1, CatsAndDogs Batch 51:  Loss: 14.388139724731445 Validation Accuracy: 0.5099999904632568\n",
      "Epoch  1, CatsAndDogs Batch 52:  Loss: 10.353724479675293 Validation Accuracy: 0.5099999904632568\n",
      "Epoch  1, CatsAndDogs Batch 53:  Loss: 16.5606689453125 Validation Accuracy: 0.5099999904632568\n",
      "Epoch  1, CatsAndDogs Batch 54:  Loss: 13.309552192687988 Validation Accuracy: 0.5099999904632568\n",
      "Epoch  1, CatsAndDogs Batch 55:  Loss: 11.277663230895996 Validation Accuracy: 0.5099999904632568\n",
      "Epoch  1, CatsAndDogs Batch 56:  Loss: 12.840385437011719 Validation Accuracy: 0.5099999904632568\n",
      "Epoch  1, CatsAndDogs Batch 57:  Loss: 2.5966155529022217 Validation Accuracy: 0.5099999904632568\n",
      "Epoch  1, CatsAndDogs Batch 58:  Loss: 5.05303955078125 Validation Accuracy: 0.5120000243186951\n",
      "Epoch  1, CatsAndDogs Batch 59:  Loss: 2.607947826385498 Validation Accuracy: 0.5120000243186951\n",
      "Epoch  1, CatsAndDogs Batch 60:  Loss: 0.5981432199478149 Validation Accuracy: 0.5139999985694885\n",
      "Epoch  1, CatsAndDogs Batch 61:  Loss: 3.2762272357940674 Validation Accuracy: 0.5080000162124634\n",
      "Epoch  1, CatsAndDogs Batch 62:  Loss: 2.9408421516418457 Validation Accuracy: 0.5080000162124634\n",
      "Epoch  1, CatsAndDogs Batch 63:  Loss: 2.040311813354492 Validation Accuracy: 0.5199999809265137\n",
      "Epoch  1, CatsAndDogs Batch 64:  Loss: 2.314103364944458 Validation Accuracy: 0.5120000243186951\n",
      "Epoch  1, CatsAndDogs Batch 65:  Loss: 2.773280143737793 Validation Accuracy: 0.515999972820282\n",
      "Epoch  1, CatsAndDogs Batch 66:  Loss: 11.186540603637695 Validation Accuracy: 0.5099999904632568\n",
      "Epoch  1, CatsAndDogs Batch 67:  Loss: 8.136210441589355 Validation Accuracy: 0.5099999904632568\n",
      "Epoch  1, CatsAndDogs Batch 68:  Loss: 7.615409851074219 Validation Accuracy: 0.5120000243186951\n",
      "Epoch  1, CatsAndDogs Batch 69:  Loss: 1.0698497295379639 Validation Accuracy: 0.5440000295639038\n",
      "Epoch  1, CatsAndDogs Batch 70:  Loss: 1.7123758792877197 Validation Accuracy: 0.5460000038146973\n",
      "Epoch  1, CatsAndDogs Batch 71:  Loss: 3.2280731201171875 Validation Accuracy: 0.4699999988079071\n",
      "Epoch  1, CatsAndDogs Batch 72:  Loss: 4.712131977081299 Validation Accuracy: 0.47600001096725464\n",
      "Epoch  1, CatsAndDogs Batch 73:  Loss: 5.096272945404053 Validation Accuracy: 0.47600001096725464\n",
      "Epoch  1, CatsAndDogs Batch 74:  Loss: 1.9451261758804321 Validation Accuracy: 0.4779999852180481\n",
      "Epoch  1, CatsAndDogs Batch 75:  Loss: 4.178920745849609 Validation Accuracy: 0.4779999852180481\n",
      "Epoch  1, CatsAndDogs Batch 76:  Loss: 3.3066112995147705 Validation Accuracy: 0.492000013589859\n",
      "Epoch  1, CatsAndDogs Batch 77:  Loss: 1.3419170379638672 Validation Accuracy: 0.49000000953674316\n",
      "Epoch  1, CatsAndDogs Batch 78:  Loss: 2.2037384510040283 Validation Accuracy: 0.5139999985694885\n",
      "Epoch  1, CatsAndDogs Batch 79:  Loss: 1.1007590293884277 Validation Accuracy: 0.5400000214576721\n",
      "Epoch  1, CatsAndDogs Batch 80:  Loss: 1.8342068195343018 Validation Accuracy: 0.515999972820282\n",
      "Epoch  1, CatsAndDogs Batch 81:  Loss: 1.6843103170394897 Validation Accuracy: 0.5260000228881836\n",
      "Epoch  1, CatsAndDogs Batch 82:  Loss: 1.5332368612289429 Validation Accuracy: 0.49799999594688416\n",
      "Epoch  1, CatsAndDogs Batch 83:  Loss: 0.9684337377548218 Validation Accuracy: 0.49000000953674316\n",
      "Epoch  1, CatsAndDogs Batch 84:  Loss: 0.6479479074478149 Validation Accuracy: 0.47600001096725464\n",
      "Epoch  1, CatsAndDogs Batch 85:  Loss: 0.6813861131668091 Validation Accuracy: 0.4959999918937683\n",
      "Epoch  1, CatsAndDogs Batch 86:  Loss: 0.735488772392273 Validation Accuracy: 0.5180000066757202\n",
      "Epoch  1, CatsAndDogs Batch 87:  Loss: 1.411571979522705 Validation Accuracy: 0.515999972820282\n",
      "Epoch  1, CatsAndDogs Batch 88:  Loss: 0.9896636009216309 Validation Accuracy: 0.5139999985694885\n",
      "Epoch  1, CatsAndDogs Batch 89:  Loss: 0.38124528527259827 Validation Accuracy: 0.5460000038146973\n",
      "Epoch  1, CatsAndDogs Batch 90:  Loss: 1.0596317052841187 Validation Accuracy: 0.5540000200271606\n",
      "Epoch  1, CatsAndDogs Batch 91:  Loss: 0.8516396284103394 Validation Accuracy: 0.5220000147819519\n",
      "Epoch  1, CatsAndDogs Batch 92:  Loss: 3.3926596641540527 Validation Accuracy: 0.5180000066757202\n",
      "Epoch  1, CatsAndDogs Batch 93:  Loss: 3.0724644660949707 Validation Accuracy: 0.5139999985694885\n",
      "Epoch  1, CatsAndDogs Batch 94:  Loss: 1.6124547719955444 Validation Accuracy: 0.515999972820282\n",
      "Epoch  1, CatsAndDogs Batch 95:  Loss: 1.5522735118865967 Validation Accuracy: 0.5400000214576721\n",
      "Epoch  1, CatsAndDogs Batch 96:  Loss: 0.7662657499313354 Validation Accuracy: 0.5040000081062317\n",
      "Epoch  1, CatsAndDogs Batch 97:  Loss: 0.9309864044189453 Validation Accuracy: 0.49399998784065247\n",
      "Epoch  1, CatsAndDogs Batch 98:  Loss: 0.6538369059562683 Validation Accuracy: 0.4860000014305115\n",
      "Epoch  1, CatsAndDogs Batch 99:  Loss: 1.4124139547348022 Validation Accuracy: 0.492000013589859\n",
      "Epoch  1, CatsAndDogs Batch 100:  Loss: 1.237690806388855 Validation Accuracy: 0.48399999737739563\n",
      "Epoch  1, CatsAndDogs Batch 101:  Loss: 1.8615623712539673 Validation Accuracy: 0.49799999594688416\n",
      "Epoch  1, CatsAndDogs Batch 102:  Loss: 2.297883987426758 Validation Accuracy: 0.4860000014305115\n",
      "Epoch  1, CatsAndDogs Batch 103:  Loss: 2.5423498153686523 Validation Accuracy: 0.4819999933242798\n",
      "Epoch  1, CatsAndDogs Batch 104:  Loss: 1.7947006225585938 Validation Accuracy: 0.4860000014305115\n",
      "Epoch  1, CatsAndDogs Batch 105:  Loss: 1.5925681591033936 Validation Accuracy: 0.47999998927116394\n",
      "Epoch  1, CatsAndDogs Batch 106:  Loss: 0.5597424507141113 Validation Accuracy: 0.4779999852180481\n",
      "Epoch  1, CatsAndDogs Batch 107:  Loss: 0.8241168260574341 Validation Accuracy: 0.4699999988079071\n",
      "Epoch  1, CatsAndDogs Batch 108:  Loss: 2.315621852874756 Validation Accuracy: 0.5180000066757202\n",
      "Epoch  1, CatsAndDogs Batch 109:  Loss: 0.8769657015800476 Validation Accuracy: 0.527999997138977\n",
      "Epoch  1, CatsAndDogs Batch 110:  Loss: 1.0048282146453857 Validation Accuracy: 0.5260000228881836\n",
      "Epoch  1, CatsAndDogs Batch 111:  Loss: 1.2787350416183472 Validation Accuracy: 0.527999997138977\n",
      "Epoch  1, CatsAndDogs Batch 112:  Loss: 0.954395592212677 Validation Accuracy: 0.5320000052452087\n",
      "Epoch  1, CatsAndDogs Batch 113:  Loss: 4.733077049255371 Validation Accuracy: 0.5180000066757202\n",
      "Epoch  1, CatsAndDogs Batch 114:  Loss: 1.1330746412277222 Validation Accuracy: 0.5180000066757202\n",
      "Epoch  1, CatsAndDogs Batch 115:  Loss: 0.6449436545372009 Validation Accuracy: 0.5199999809265137\n",
      "Epoch  1, CatsAndDogs Batch 116:  Loss: 0.8448739051818848 Validation Accuracy: 0.5080000162124634\n",
      "Epoch  1, CatsAndDogs Batch 117:  Loss: 0.6157947778701782 Validation Accuracy: 0.5\n",
      "Epoch  1, CatsAndDogs Batch 118:  Loss: 0.8997496366500854 Validation Accuracy: 0.527999997138977\n",
      "Epoch  1, CatsAndDogs Batch 119:  Loss: 0.8636903762817383 Validation Accuracy: 0.5239999890327454\n",
      "Epoch  1, CatsAndDogs Batch 120:  Loss: 0.8232353329658508 Validation Accuracy: 0.5\n",
      "Epoch  1, CatsAndDogs Batch 121:  Loss: 0.7746666669845581 Validation Accuracy: 0.4959999918937683\n",
      "Epoch  1, CatsAndDogs Batch 122:  Loss: 0.7279864549636841 Validation Accuracy: 0.4659999907016754\n",
      "Epoch  1, CatsAndDogs Batch 123:  Loss: 0.8765867352485657 Validation Accuracy: 0.45399999618530273\n",
      "Epoch  1, CatsAndDogs Batch 124:  Loss: 0.7505413293838501 Validation Accuracy: 0.4659999907016754\n",
      "Epoch  1, CatsAndDogs Batch 125:  Loss: 0.754555344581604 Validation Accuracy: 0.4740000069141388\n",
      "Epoch  1, CatsAndDogs Batch 126:  Loss: 0.8008907437324524 Validation Accuracy: 0.44999998807907104\n",
      "Epoch  1, CatsAndDogs Batch 127:  Loss: 0.6498620510101318 Validation Accuracy: 0.44999998807907104\n",
      "Epoch  1, CatsAndDogs Batch 128:  Loss: 0.6797025799751282 Validation Accuracy: 0.46399998664855957\n",
      "Epoch  1, CatsAndDogs Batch 129:  Loss: 0.745965838432312 Validation Accuracy: 0.4779999852180481\n",
      "Epoch  1, CatsAndDogs Batch 130:  Loss: 0.6730444431304932 Validation Accuracy: 0.4819999933242798\n",
      "Epoch  1, CatsAndDogs Batch 131:  Loss: 0.7917057275772095 Validation Accuracy: 0.5019999742507935\n",
      "Epoch  1, CatsAndDogs Batch 132:  Loss: 0.7462892532348633 Validation Accuracy: 0.5220000147819519\n",
      "Epoch  1, CatsAndDogs Batch 133:  Loss: 0.6487550139427185 Validation Accuracy: 0.492000013589859\n",
      "Epoch  1, CatsAndDogs Batch 134:  Loss: 0.7060888409614563 Validation Accuracy: 0.47999998927116394\n",
      "Epoch  1, CatsAndDogs Batch 135:  Loss: 0.6778241395950317 Validation Accuracy: 0.4779999852180481\n",
      "Epoch  1, CatsAndDogs Batch 136:  Loss: 0.6213659048080444 Validation Accuracy: 0.47999998927116394\n",
      "Epoch  1, CatsAndDogs Batch 137:  Loss: 0.6958361268043518 Validation Accuracy: 0.47999998927116394\n",
      "Epoch  1, CatsAndDogs Batch 138:  Loss: 0.6989151835441589 Validation Accuracy: 0.48399999737739563\n",
      "Epoch  1, CatsAndDogs Batch 139:  Loss: 0.645014762878418 Validation Accuracy: 0.4860000014305115\n",
      "Epoch  1, CatsAndDogs Batch 140:  Loss: 0.7032578587532043 Validation Accuracy: 0.48399999737739563\n",
      "Epoch  1, CatsAndDogs Batch 141:  Loss: 0.7071906924247742 Validation Accuracy: 0.4860000014305115\n",
      "Epoch  1, CatsAndDogs Batch 142:  Loss: 0.6933791637420654 Validation Accuracy: 0.48399999737739563\n",
      "Epoch  1, CatsAndDogs Batch 143:  Loss: 0.6612313389778137 Validation Accuracy: 0.4740000069141388\n",
      "Epoch  1, CatsAndDogs Batch 144:  Loss: 0.6970455050468445 Validation Accuracy: 0.4699999988079071\n",
      "Epoch  1, CatsAndDogs Batch 145:  Loss: 0.6758688688278198 Validation Accuracy: 0.4699999988079071\n",
      "Epoch  1, CatsAndDogs Batch 146:  Loss: 0.6830812692642212 Validation Accuracy: 0.4699999988079071\n",
      "Epoch  1, CatsAndDogs Batch 147:  Loss: 0.6901141405105591 Validation Accuracy: 0.4699999988079071\n",
      "Epoch  1, CatsAndDogs Batch 148:  Loss: 0.6992291808128357 Validation Accuracy: 0.47600001096725464\n",
      "Epoch  1, CatsAndDogs Batch 149:  Loss: 0.630145251750946 Validation Accuracy: 0.47999998927116394\n",
      "Epoch  1, CatsAndDogs Batch 150:  Loss: 0.6675968170166016 Validation Accuracy: 0.4779999852180481\n",
      "Epoch  1, CatsAndDogs Batch 151:  Loss: 0.6981582045555115 Validation Accuracy: 0.47600001096725464\n",
      "Epoch  1, CatsAndDogs Batch 152:  Loss: 0.6881526112556458 Validation Accuracy: 0.47600001096725464\n",
      "Epoch  1, CatsAndDogs Batch 153:  Loss: 0.6344420313835144 Validation Accuracy: 0.47600001096725464\n",
      "Epoch  1, CatsAndDogs Batch 154:  Loss: 0.6932182908058167 Validation Accuracy: 0.47600001096725464\n",
      "Epoch  1, CatsAndDogs Batch 155:  Loss: 0.6250960230827332 Validation Accuracy: 0.4740000069141388\n",
      "Epoch  1, CatsAndDogs Batch 156:  Loss: 0.6997645497322083 Validation Accuracy: 0.4740000069141388\n",
      "Epoch  1, CatsAndDogs Batch 157:  Loss: 0.6911099553108215 Validation Accuracy: 0.4740000069141388\n",
      "Epoch  1, CatsAndDogs Batch 158:  Loss: 0.69319748878479 Validation Accuracy: 0.47600001096725464\n",
      "Epoch  1, CatsAndDogs Batch 159:  Loss: 0.6710496544837952 Validation Accuracy: 0.4779999852180481\n",
      "Epoch  1, CatsAndDogs Batch 160:  Loss: 0.6913986206054688 Validation Accuracy: 0.47999998927116394\n",
      "Epoch  1, CatsAndDogs Batch 161:  Loss: 0.6948823928833008 Validation Accuracy: 0.4819999933242798\n",
      "Epoch  1, CatsAndDogs Batch 162:  Loss: 0.6931794881820679 Validation Accuracy: 0.4819999933242798\n",
      "Epoch  1, CatsAndDogs Batch 163:  Loss: 2.2125935554504395 Validation Accuracy: 0.4819999933242798\n",
      "Epoch  1, CatsAndDogs Batch 164:  Loss: 0.6182254552841187 Validation Accuracy: 0.47200000286102295\n",
      "Epoch  1, CatsAndDogs Batch 165:  Loss: 0.7519797682762146 Validation Accuracy: 0.47999998927116394\n",
      "Epoch  1, CatsAndDogs Batch 166:  Loss: 0.6942771673202515 Validation Accuracy: 0.47999998927116394\n",
      "Epoch  1, CatsAndDogs Batch 167:  Loss: 0.6646075248718262 Validation Accuracy: 0.47999998927116394\n",
      "Epoch  1, CatsAndDogs Batch 168:  Loss: 0.7325150370597839 Validation Accuracy: 0.47999998927116394\n",
      "Epoch  1, CatsAndDogs Batch 169:  Loss: 0.6376928687095642 Validation Accuracy: 0.47999998927116394\n",
      "Epoch  1, CatsAndDogs Batch 170:  Loss: 0.6897722482681274 Validation Accuracy: 0.4819999933242798\n",
      "Epoch  1, CatsAndDogs Batch 171:  Loss: 0.6939746141433716 Validation Accuracy: 0.4860000014305115\n",
      "Epoch  1, CatsAndDogs Batch 172:  Loss: 1.2259827852249146 Validation Accuracy: 0.5080000162124634\n",
      "Epoch  1, CatsAndDogs Batch 173:  Loss: 0.6940823793411255 Validation Accuracy: 0.515999972820282\n",
      "Epoch  1, CatsAndDogs Batch 174:  Loss: 0.6931554079055786 Validation Accuracy: 0.4880000054836273\n",
      "Epoch  1, CatsAndDogs Batch 175:  Loss: 0.7090458273887634 Validation Accuracy: 0.4880000054836273\n",
      "Epoch  1, CatsAndDogs Batch 176:  Loss: 0.693989634513855 Validation Accuracy: 0.4860000014305115\n",
      "Epoch  1, CatsAndDogs Batch 177:  Loss: 0.6923115253448486 Validation Accuracy: 0.4860000014305115\n",
      "Epoch  1, CatsAndDogs Batch 178:  Loss: 0.6913821697235107 Validation Accuracy: 0.4860000014305115\n",
      "Epoch  1, CatsAndDogs Batch 179:  Loss: 0.8320377469062805 Validation Accuracy: 0.4860000014305115\n",
      "Epoch  1, CatsAndDogs Batch 180:  Loss: 0.7143305540084839 Validation Accuracy: 0.48399999737739563\n",
      "Epoch  1, CatsAndDogs Batch 181:  Loss: 0.6940754055976868 Validation Accuracy: 0.48399999737739563\n",
      "Epoch  1, CatsAndDogs Batch 182:  Loss: 0.6949131488800049 Validation Accuracy: 0.48399999737739563\n",
      "Epoch  1, CatsAndDogs Batch 183:  Loss: 0.6947906017303467 Validation Accuracy: 0.4819999933242798\n",
      "Epoch  1, CatsAndDogs Batch 184:  Loss: 0.6938977837562561 Validation Accuracy: 0.4819999933242798\n",
      "Epoch  1, CatsAndDogs Batch 185:  Loss: 0.6975628137588501 Validation Accuracy: 0.4819999933242798\n",
      "Epoch  1, CatsAndDogs Batch 186:  Loss: 0.6925908923149109 Validation Accuracy: 0.4819999933242798\n",
      "Epoch  1, CatsAndDogs Batch 187:  Loss: 0.6926442384719849 Validation Accuracy: 0.4819999933242798\n",
      "Epoch  1, CatsAndDogs Batch 188:  Loss: 0.694405198097229 Validation Accuracy: 0.48399999737739563\n",
      "Epoch  1, CatsAndDogs Batch 189:  Loss: 0.6931486129760742 Validation Accuracy: 0.48399999737739563\n",
      "Epoch  1, CatsAndDogs Batch 190:  Loss: 0.6816573143005371 Validation Accuracy: 0.48399999737739563\n",
      "Epoch  1, CatsAndDogs Batch 191:  Loss: 0.6612911224365234 Validation Accuracy: 0.48399999737739563\n",
      "Epoch  1, CatsAndDogs Batch 192:  Loss: 0.7639285922050476 Validation Accuracy: 0.48399999737739563\n",
      "Epoch  1, CatsAndDogs Batch 193:  Loss: 0.6931654810905457 Validation Accuracy: 0.47999998927116394\n",
      "Epoch  1, CatsAndDogs Batch 194:  Loss: 0.699701189994812 Validation Accuracy: 0.5139999985694885\n",
      "Epoch  1, CatsAndDogs Batch 195:  Loss: 0.6928874254226685 Validation Accuracy: 0.5139999985694885\n",
      "Epoch  1, CatsAndDogs Batch 196:  Loss: 0.7137900590896606 Validation Accuracy: 0.515999972820282\n",
      "Epoch  1, CatsAndDogs Batch 197:  Loss: 0.6699916124343872 Validation Accuracy: 0.5139999985694885\n",
      "Epoch  1, CatsAndDogs Batch 198:  Loss: 0.6931483745574951 Validation Accuracy: 0.5139999985694885\n",
      "Epoch  1, CatsAndDogs Batch 199:  Loss: 0.6927891969680786 Validation Accuracy: 0.5139999985694885\n",
      "Epoch  1, CatsAndDogs Batch 200:  Loss: 0.7511963844299316 Validation Accuracy: 0.5139999985694885\n",
      "Epoch  1, CatsAndDogs Batch 201:  Loss: 0.6927119493484497 Validation Accuracy: 0.5139999985694885\n",
      "Epoch  1, CatsAndDogs Batch 202:  Loss: 0.6952480673789978 Validation Accuracy: 0.5139999985694885\n",
      "Epoch  1, CatsAndDogs Batch 203:  Loss: 0.6923016309738159 Validation Accuracy: 0.5139999985694885\n",
      "Epoch  1, CatsAndDogs Batch 204:  Loss: 0.7606877088546753 Validation Accuracy: 0.5120000243186951\n",
      "Epoch  1, CatsAndDogs Batch 205:  Loss: 0.6931490898132324 Validation Accuracy: 0.5139999985694885\n",
      "Epoch  1, CatsAndDogs Batch 206:  Loss: 0.7516189813613892 Validation Accuracy: 0.5120000243186951\n",
      "Epoch  1, CatsAndDogs Batch 207:  Loss: 0.6413793563842773 Validation Accuracy: 0.5120000243186951\n",
      "Epoch  1, CatsAndDogs Batch 208:  Loss: 0.692531168460846 Validation Accuracy: 0.5120000243186951\n",
      "Epoch  1, CatsAndDogs Batch 209:  Loss: 0.7934595942497253 Validation Accuracy: 0.5120000243186951\n",
      "Epoch  1, CatsAndDogs Batch 210:  Loss: 0.6941519975662231 Validation Accuracy: 0.5120000243186951\n",
      "Epoch  1, CatsAndDogs Batch 211:  Loss: 0.6934231519699097 Validation Accuracy: 0.5120000243186951\n",
      "Epoch  1, CatsAndDogs Batch 212:  Loss: 0.7107733488082886 Validation Accuracy: 0.5120000243186951\n",
      "Epoch  1, CatsAndDogs Batch 213:  Loss: 0.6439863443374634 Validation Accuracy: 0.5120000243186951\n",
      "Epoch  1, CatsAndDogs Batch 214:  Loss: 0.6612228751182556 Validation Accuracy: 0.5120000243186951\n",
      "Epoch  1, CatsAndDogs Batch 215:  Loss: 0.6512899398803711 Validation Accuracy: 0.5120000243186951\n",
      "Epoch  1, CatsAndDogs Batch 216:  Loss: 0.6925681233406067 Validation Accuracy: 0.5139999985694885\n",
      "Epoch  1, CatsAndDogs Batch 217:  Loss: 0.693759560585022 Validation Accuracy: 0.5120000243186951\n",
      "Epoch  1, CatsAndDogs Batch 218:  Loss: 0.6931484937667847 Validation Accuracy: 0.5120000243186951\n",
      "Epoch  1, CatsAndDogs Batch 219:  Loss: 0.6931486129760742 Validation Accuracy: 0.5139999985694885\n",
      "Epoch  1, CatsAndDogs Batch 220:  Loss: 0.6252277493476868 Validation Accuracy: 0.5120000243186951\n",
      "Epoch  1, CatsAndDogs Batch 221:  Loss: 0.6652477383613586 Validation Accuracy: 0.5120000243186951\n",
      "Epoch  1, CatsAndDogs Batch 222:  Loss: 0.7925402522087097 Validation Accuracy: 0.5120000243186951\n",
      "Epoch  1, CatsAndDogs Batch 223:  Loss: 0.6931484937667847 Validation Accuracy: 0.5120000243186951\n",
      "Epoch  1, CatsAndDogs Batch 224:  Loss: 0.6931483745574951 Validation Accuracy: 0.5120000243186951\n",
      "Epoch  1, CatsAndDogs Batch 225:  Loss: 0.693428635597229 Validation Accuracy: 0.5139999985694885\n",
      "Epoch  1, CatsAndDogs Batch 226:  Loss: 0.6936121582984924 Validation Accuracy: 0.5120000243186951\n",
      "Epoch  1, CatsAndDogs Batch 227:  Loss: 0.6931476593017578 Validation Accuracy: 0.5120000243186951\n",
      "Epoch  1, CatsAndDogs Batch 228:  Loss: 0.6928077936172485 Validation Accuracy: 0.5120000243186951\n",
      "Epoch  1, CatsAndDogs Batch 229:  Loss: 0.6923642158508301 Validation Accuracy: 0.5120000243186951\n",
      "Epoch  1, CatsAndDogs Batch 230:  Loss: 0.7110835909843445 Validation Accuracy: 0.5120000243186951\n",
      "Epoch  1, CatsAndDogs Batch 231:  Loss: 0.6935466527938843 Validation Accuracy: 0.5120000243186951\n",
      "Epoch  1, CatsAndDogs Batch 232:  Loss: 0.6931475400924683 Validation Accuracy: 0.5120000243186951\n",
      "Epoch  1, CatsAndDogs Batch 233:  Loss: 0.6924998164176941 Validation Accuracy: 0.5120000243186951\n",
      "Epoch  1, CatsAndDogs Batch 234:  Loss: 0.6928970813751221 Validation Accuracy: 0.5120000243186951\n",
      "Epoch  1, CatsAndDogs Batch 235:  Loss: 0.6928548216819763 Validation Accuracy: 0.5120000243186951\n",
      "Epoch  1, CatsAndDogs Batch 236:  Loss: 0.6924532055854797 Validation Accuracy: 0.5120000243186951\n",
      "Epoch  1, CatsAndDogs Batch 237:  Loss: 0.6918619871139526 Validation Accuracy: 0.5120000243186951\n",
      "Epoch  1, CatsAndDogs Batch 238:  Loss: 0.6926357746124268 Validation Accuracy: 0.5120000243186951\n",
      "Epoch  1, CatsAndDogs Batch 239:  Loss: 0.693730354309082 Validation Accuracy: 0.5120000243186951\n",
      "Epoch  1, CatsAndDogs Batch 240:  Loss: 0.6937773823738098 Validation Accuracy: 0.5120000243186951\n",
      "Epoch  1, CatsAndDogs Batch 241:  Loss: 0.6710309982299805 Validation Accuracy: 0.515999972820282\n",
      "Epoch  1, CatsAndDogs Batch 242:  Loss: 0.693154513835907 Validation Accuracy: 0.5139999985694885\n",
      "Epoch  1, CatsAndDogs Batch 243:  Loss: 0.6939678192138672 Validation Accuracy: 0.5120000243186951\n",
      "Epoch  1, CatsAndDogs Batch 244:  Loss: 0.6922897100448608 Validation Accuracy: 0.5139999985694885\n",
      "Epoch  1, CatsAndDogs Batch 245:  Loss: 0.6949474215507507 Validation Accuracy: 0.5120000243186951\n",
      "Epoch  1, CatsAndDogs Batch 246:  Loss: 0.6949567794799805 Validation Accuracy: 0.5139999985694885\n",
      "Epoch  1, CatsAndDogs Batch 247:  Loss: 0.6922415494918823 Validation Accuracy: 0.5120000243186951\n",
      "Epoch  1, CatsAndDogs Batch 248:  Loss: 0.6940916180610657 Validation Accuracy: 0.5120000243186951\n",
      "Epoch  1, CatsAndDogs Batch 249:  Loss: 0.7109195590019226 Validation Accuracy: 0.5120000243186951\n",
      "Epoch  1, CatsAndDogs Batch 250:  Loss: 0.6931589245796204 Validation Accuracy: 0.5120000243186951\n",
      "Epoch  1, CatsAndDogs Batch 251:  Loss: 0.6931594610214233 Validation Accuracy: 0.5120000243186951\n",
      "Epoch  1, CatsAndDogs Batch 252:  Loss: 0.6921414136886597 Validation Accuracy: 0.5120000243186951\n",
      "Epoch  1, CatsAndDogs Batch 253:  Loss: 0.6941945552825928 Validation Accuracy: 0.5120000243186951\n",
      "Epoch  1, CatsAndDogs Batch 254:  Loss: 0.6814568042755127 Validation Accuracy: 0.5120000243186951\n",
      "Epoch  1, CatsAndDogs Batch 255:  Loss: 0.6952726244926453 Validation Accuracy: 0.5120000243186951\n",
      "Epoch  1, CatsAndDogs Batch 256:  Loss: 0.6920990347862244 Validation Accuracy: 0.5120000243186951\n",
      "Epoch  1, CatsAndDogs Batch 257:  Loss: 0.6931613683700562 Validation Accuracy: 0.5120000243186951\n",
      "Epoch  1, CatsAndDogs Batch 258:  Loss: 0.6920784115791321 Validation Accuracy: 0.5120000243186951\n",
      "Epoch  1, CatsAndDogs Batch 259:  Loss: 0.6953123807907104 Validation Accuracy: 0.5120000243186951\n",
      "Epoch  1, CatsAndDogs Batch 260:  Loss: 0.6705409288406372 Validation Accuracy: 0.5120000243186951\n",
      "Epoch  1, CatsAndDogs Batch 261:  Loss: 0.694200873374939 Validation Accuracy: 0.5120000243186951\n",
      "Epoch  1, CatsAndDogs Batch 262:  Loss: 0.692129909992218 Validation Accuracy: 0.5099999904632568\n",
      "Epoch  1, CatsAndDogs Batch 263:  Loss: 0.6910686492919922 Validation Accuracy: 0.5099999904632568\n",
      "Epoch  1, CatsAndDogs Batch 264:  Loss: 0.6965530514717102 Validation Accuracy: 0.5099999904632568\n",
      "Epoch  1, CatsAndDogs Batch 265:  Loss: 0.80340176820755 Validation Accuracy: 0.5120000243186951\n",
      "Epoch  1, CatsAndDogs Batch 266:  Loss: 0.6985073685646057 Validation Accuracy: 0.5120000243186951\n",
      "Epoch  1, CatsAndDogs Batch 267:  Loss: 0.6971701383590698 Validation Accuracy: 0.5120000243186951\n",
      "Epoch  1, CatsAndDogs Batch 268:  Loss: 0.693158745765686 Validation Accuracy: 0.5120000243186951\n",
      "Epoch  1, CatsAndDogs Batch 269:  Loss: 0.6940749883651733 Validation Accuracy: 0.5120000243186951\n",
      "Epoch  1, CatsAndDogs Batch 270:  Loss: 0.6940191984176636 Validation Accuracy: 0.5120000243186951\n",
      "Epoch  1, CatsAndDogs Batch 271:  Loss: 0.6345440149307251 Validation Accuracy: 0.5139999985694885\n",
      "Epoch  1, CatsAndDogs Batch 272:  Loss: 0.6931549906730652 Validation Accuracy: 0.5120000243186951\n",
      "Epoch  1, CatsAndDogs Batch 273:  Loss: 0.6783878803253174 Validation Accuracy: 0.5139999985694885\n",
      "Epoch  1, CatsAndDogs Batch 274:  Loss: 0.6916725039482117 Validation Accuracy: 0.5139999985694885\n",
      "Epoch  1, CatsAndDogs Batch 275:  Loss: 0.692412257194519 Validation Accuracy: 0.5139999985694885\n",
      "Epoch  1, CatsAndDogs Batch 276:  Loss: 0.693885326385498 Validation Accuracy: 0.5139999985694885\n",
      "Epoch  1, CatsAndDogs Batch 277:  Loss: 0.6691542863845825 Validation Accuracy: 0.5120000243186951\n",
      "Epoch  1, CatsAndDogs Batch 278:  Loss: 0.6924524307250977 Validation Accuracy: 0.5120000243186951\n",
      "Epoch  1, CatsAndDogs Batch 279:  Loss: 0.6931532025337219 Validation Accuracy: 0.5099999904632568\n",
      "Epoch  1, CatsAndDogs Batch 280:  Loss: 0.6924533843994141 Validation Accuracy: 0.5099999904632568\n",
      "Epoch  1, CatsAndDogs Batch 281:  Loss: 0.6924371719360352 Validation Accuracy: 0.5099999904632568\n",
      "Epoch  1, CatsAndDogs Batch 282:  Loss: 0.6938754320144653 Validation Accuracy: 0.5099999904632568\n",
      "Epoch  1, CatsAndDogs Batch 283:  Loss: 0.6916525959968567 Validation Accuracy: 0.5080000162124634\n",
      "Epoch  1, CatsAndDogs Batch 284:  Loss: 0.6923683285713196 Validation Accuracy: 0.5099999904632568\n",
      "Epoch  1, CatsAndDogs Batch 285:  Loss: 0.6914690136909485 Validation Accuracy: 0.5099999904632568\n",
      "Epoch  1, CatsAndDogs Batch 286:  Loss: 0.6903718709945679 Validation Accuracy: 0.5099999904632568\n",
      "Epoch  1, CatsAndDogs Batch 287:  Loss: 0.7144314646720886 Validation Accuracy: 0.5099999904632568\n",
      "Epoch  1, CatsAndDogs Batch 288:  Loss: 0.693160891532898 Validation Accuracy: 0.5099999904632568\n",
      "Epoch  1, CatsAndDogs Batch 289:  Loss: 0.692053496837616 Validation Accuracy: 0.5099999904632568\n",
      "Epoch  1, CatsAndDogs Batch 290:  Loss: 0.6931641101837158 Validation Accuracy: 0.5099999904632568\n",
      "Epoch  1, CatsAndDogs Batch 291:  Loss: 0.6955385804176331 Validation Accuracy: 0.5099999904632568\n",
      "Epoch  1, CatsAndDogs Batch 292:  Loss: 0.6919485926628113 Validation Accuracy: 0.5099999904632568\n",
      "Epoch  1, CatsAndDogs Batch 293:  Loss: 0.6956045031547546 Validation Accuracy: 0.5099999904632568\n",
      "Epoch  1, CatsAndDogs Batch 294:  "
     ]
    }
   ],
   "source": [
    "with tf.Session() as sess:\n",
    "    # Initializing the variables\n",
    "    sess.run(tf.global_variables_initializer())\n",
    "    \n",
    "    # Training cycle\n",
    "    for epoch in range(epochs):\n",
    "        # Loop over all batches\n",
    "        batch_i = 0\n",
    "        for batch_x, batch_y in batches:\n",
    "            batch_i += 1\n",
    "            train_neural_network(sess, optimizer, keep_probability, batch_x, batch_y)\n",
    "            print('Epoch {:>2}, CatsAndDogs Batch {}:  '.format(epoch + 1, batch_i), end='')\n",
    "            print_stats(sess, batch_x, batch_y, cost, accuracy)\n",
    "            \n",
    "    # Save Model\n",
    "    saver = tf.train.Saver()\n",
    "    save_path = saver.save(sess, save_model_path)"
   ]
  },
  {
   "cell_type": "code",
   "execution_count": null,
   "metadata": {
    "collapsed": true
   },
   "outputs": [],
   "source": []
  },
  {
   "cell_type": "code",
   "execution_count": null,
   "metadata": {
    "collapsed": true
   },
   "outputs": [],
   "source": []
  }
 ],
 "metadata": {
  "anaconda-cloud": {},
  "kernelspec": {
   "display_name": "Python 3",
   "language": "python",
   "name": "python3"
  },
  "language_info": {
   "codemirror_mode": {
    "name": "ipython",
    "version": 3
   },
   "file_extension": ".py",
   "mimetype": "text/x-python",
   "name": "python",
   "nbconvert_exporter": "python",
   "pygments_lexer": "ipython3",
   "version": "3.5.2"
  }
 },
 "nbformat": 4,
 "nbformat_minor": 1
}
